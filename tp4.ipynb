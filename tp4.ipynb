{
 "cells": [
  {
   "cell_type": "markdown",
   "id": "3e4771e8",
   "metadata": {},
   "source": [
    "# Trabajo Practico n4 - Introduccion a numpy.\n",
    "## Criterios de evaluación.\n",
    "\n",
    "* Se deben utilizar nombres de variables descriptivos y claros (Utilizar la nomeclatura correspondiente para los nombres de variables).\n",
    "* Comentarios claros y concisos que expliquen el propósito de cada sección del código.\n",
    "* Utilizar mensajes de commit **descriptivos**. (Puedes utilizar la extension CONVENTIONAL COMMIT de VS-CODE). \n",
    "* Entrega en tiempo y forma.\n",
    "* Todo el código desarrollado debe ser subido a un repositorio en GitHub (el nombre del repositorio de seguir la siguiente estructura: tp4_tlp3_nombre_apellido).\n",
    "* Para resolver las actividades se debe insertar casillas de codigo entre cada actividad del cuaderno de Jupyter\n",
    "\n",
    "### ¡Importante!\n",
    "**El incumplimiento de los criterios de evaluación restará puntos en la nota final del práctico!**"
   ]
  },
  {
   "cell_type": "markdown",
   "id": "6f3340d9",
   "metadata": {},
   "source": [
    "**Importaciones:**"
   ]
  },
  {
   "cell_type": "code",
   "execution_count": 22,
   "id": "783ab170",
   "metadata": {},
   "outputs": [],
   "source": [
    "import numpy as np\n",
    "from random import randint\n",
    "import random"
   ]
  },
  {
   "cell_type": "markdown",
   "id": "c5ba7292",
   "metadata": {},
   "source": [
    "**Actividad 1:**: Crea un array de NumPy que contenga los números del 0 al 9. (Debes utilizar un metodo de numpy para su creacion.)"
   ]
  },
  {
   "cell_type": "code",
   "execution_count": null,
   "id": "75029034",
   "metadata": {},
   "outputs": [
    {
     "name": "stdout",
     "output_type": "stream",
     "text": [
      "[0 1 2 3 4 5 6 7 8 9]\n"
     ]
    }
   ],
   "source": [
    "#todo: \n",
    "# se crea un array que contiene los numeros del 0 al 9\n",
    "array_numeros = np.arange(0, 10)  # genera una secuencia de numeros desde 'inicio' hasta 'fin - 1'\n",
    "\n",
    "print(array_numeros)"
   ]
  },
  {
   "cell_type": "markdown",
   "id": "cb894927",
   "metadata": {},
   "source": [
    "**Actividad 2:** Crea un array de 5 ceros, y luego cambia el tercer elemento (índice 2) para que sea 5. (Debes utilizar un metodo de numpy para su creacion.)"
   ]
  },
  {
   "cell_type": "code",
   "execution_count": 16,
   "id": "b9cd04a0",
   "metadata": {},
   "outputs": [
    {
     "name": "stdout",
     "output_type": "stream",
     "text": [
      "[0. 0. 5. 0. 0.]\n"
     ]
    }
   ],
   "source": [
    "#todo:\n",
    "# se crea un array de 5 elementos, todos con valor 0\n",
    "array_ceros = np.zeros(5)   # genera un array solo de ceros del tamaño indicado\n",
    "\n",
    "# se cambia el valor del tercer elemento (indice 2) a 5\n",
    "array_ceros[2] = 5\n",
    "\n",
    "\n",
    "print(array_ceros)"
   ]
  },
  {
   "cell_type": "markdown",
   "id": "000352a3",
   "metadata": {},
   "source": [
    "**Actividad 3:** Genera una matriz 3x3 de números aleatorios entre 0 y 1."
   ]
  },
  {
   "cell_type": "code",
   "execution_count": null,
   "id": "e74354c9",
   "metadata": {},
   "outputs": [
    {
     "name": "stdout",
     "output_type": "stream",
     "text": [
      "[[0.25272839 0.0921312  0.46722818]\n",
      " [0.85950255 0.96911765 0.97170336]\n",
      " [0.58932767 0.8929306  0.68485278]]\n"
     ]
    }
   ],
   "source": [
    "#todo: \n",
    "# se crea una matriz de 3x3 con numeros aleatorios entre 0 y 1\n",
    "matriz_aleatoria = np.random.uniform(0, 1, size=(3, 3)) \n",
    "\n",
    "\n",
    "print(matriz_aleatoria)"
   ]
  },
  {
   "cell_type": "markdown",
   "id": "6611aaf8",
   "metadata": {},
   "source": [
    "**Actividad 4:** Dado el siguiente array `arr = np.array([10, 20, 30, 40, 50])`\n",
    "1. Suma 5 a cada elemento.\n",
    "2. Multiplica todo por un numero aleatorio (utiliza el modulo random para generarlo.)"
   ]
  },
  {
   "cell_type": "code",
   "execution_count": 41,
   "id": "ed416e11",
   "metadata": {},
   "outputs": [
    {
     "name": "stdout",
     "output_type": "stream",
     "text": [
      "Array original: [10 20 30 40 50]\n",
      "Array + 5: [15 25 35 45 55]\n",
      "Numero aleatorio: 13\n",
      "Resultado de la multiplicacion: [195 325 455 585 715]\n"
     ]
    }
   ],
   "source": [
    "#todo:\n",
    "arr = np.array([10, 20, 30, 40, 50])\n",
    "\n",
    "# Se suma 5 a cada elemento del array\n",
    "arr_sumado = arr + 5\n",
    "\n",
    "# Se genera un numero aleatorio\n",
    "num_aleatorio = random.randint(1, 100)\n",
    "\n",
    "# Se multiplica todo el array por ese numero aleatorio\n",
    "arr_multiplicado = arr_sumado * num_aleatorio\n",
    "\n",
    "# Se muestran los resultados\n",
    "print(\"Array original:\", arr)\n",
    "print(\"Array + 5:\", arr_sumado)\n",
    "print(f\"Numero aleatorio: {num_aleatorio}\")\n",
    "print(\"Resultado de la multiplicacion:\", arr_multiplicado)"
   ]
  },
  {
   "cell_type": "markdown",
   "id": "fbd05c4d",
   "metadata": {},
   "source": [
    "**Actividad 5:** Crea una matriz identidad de tamaño 4x4 (unos en la diagonal principal y ceros en el resto)."
   ]
  },
  {
   "cell_type": "code",
   "execution_count": 45,
   "id": "6811c19f",
   "metadata": {},
   "outputs": [
    {
     "name": "stdout",
     "output_type": "stream",
     "text": [
      "[[1. 0. 0. 0.]\n",
      " [0. 1. 0. 0.]\n",
      " [0. 0. 1. 0.]\n",
      " [0. 0. 0. 1.]]\n"
     ]
    }
   ],
   "source": [
    "#todo:\n",
    "# se crea una matriz identidad 4x4\n",
    "matriz_identidad = np.eye(4)\n",
    "\n",
    "print(matriz_identidad)"
   ]
  },
  {
   "cell_type": "markdown",
   "id": "3ec18459",
   "metadata": {},
   "source": [
    "**Actividad 6:** Crea un array que comience en 0 hasta el 20, pero que solo tenga numeros pares yu luego realiza las 4 operaciones basicas. (suma, resta, multiplicacion, division)."
   ]
  },
  {
   "cell_type": "code",
   "execution_count": null,
   "id": "f0c02872",
   "metadata": {},
   "outputs": [],
   "source": [
    "#todo: \n",
    "\n"
   ]
  }
 ],
 "metadata": {
  "kernelspec": {
   "display_name": "Python 3",
   "language": "python",
   "name": "python3"
  },
  "language_info": {
   "codemirror_mode": {
    "name": "ipython",
    "version": 3
   },
   "file_extension": ".py",
   "mimetype": "text/x-python",
   "name": "python",
   "nbconvert_exporter": "python",
   "pygments_lexer": "ipython3",
   "version": "3.12.9"
  }
 },
 "nbformat": 4,
 "nbformat_minor": 5
}
